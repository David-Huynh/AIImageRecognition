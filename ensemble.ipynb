{
 "cells": [
  {
   "cell_type": "code",
   "execution_count": 1,
   "metadata": {},
   "outputs": [],
   "source": [
    "import os\n",
    "\n",
    "os.environ[\"KERAS_BACKEND\"] = \"tensorflow\"\n",
    "\n",
    "import pandas as pd\n",
    "import numpy as np\n",
    "import matplotlib.pyplot as plt\n",
    "\n",
    "import keras\n",
    "import tensorflow as tf\n",
    "from tensorflow import data as tf_data\n",
    "from tensorboard.plugins.hparams import api as hp\n",
    "import keras_tuner as kt\n",
    "\n",
    "from sklearn.model_selection import train_test_split\n",
    "\n",
    "from preprocess_common import *\n",
    "\n",
    "from record_save_load import *"
   ]
  },
  {
   "cell_type": "code",
   "execution_count": 3,
   "metadata": {},
   "outputs": [],
   "source": [
    "class_names=['Human', 'AI']\n",
    "AUTO = tf_data.AUTOTUNE # Parallelize data loading\n",
    "#Hyperparameters\n",
    "BATCH_SIZE = 64\n",
    "BUFFER_SIZE = 1024\n",
    "IMG_SIZE = (380,380)\n",
    "\n",
    "SEED = 44"
   ]
  },
  {
   "cell_type": "code",
   "execution_count": 5,
   "metadata": {},
   "outputs": [],
   "source": [
    "eff_train_ds = load_tfrecord(\"records/eff_ens_train.tfrecord\", BATCH_SIZE, \"efficientnet\").repeat()\n",
    "eff_val_ds = load_tfrecord(\"records/eff_ens_val.tfrecord\", BATCH_SIZE, \"efficientnet\")\n",
    "res_train_ds = load_tfrecord(\"records/res_ens_train.tfrecord\", BATCH_SIZE, \"resnet\").repeat()\n",
    "res_val_ds = load_tfrecord(\"records/res_ens_val.tfrecord\", BATCH_SIZE, \"resnet\")"
   ]
  },
  {
   "cell_type": "code",
   "execution_count": 12,
   "metadata": {},
   "outputs": [],
   "source": [
    "res_model=keras.saving.load_model(\"./models/resnet_tuned_best_v32131289_blur_nomix_focal.keras\")\n",
    "eff_model=keras.saving.load_model(\"./models/efficientnet_tuned_blur_no_cutmix.keras\")"
   ]
  },
  {
   "cell_type": "code",
   "execution_count": null,
   "metadata": {},
   "outputs": [
    {
     "ename": "TypeError",
     "evalue": "'_RepeatDataset' object is not subscriptable",
     "output_type": "error",
     "traceback": [
      "\u001b[31m---------------------------------------------------------------------------\u001b[39m",
      "\u001b[31mTypeError\u001b[39m                                 Traceback (most recent call last)",
      "\u001b[36mCell\u001b[39m\u001b[36m \u001b[39m\u001b[32mIn[14]\u001b[39m\u001b[32m, line 1\u001b[39m\n\u001b[32m----> \u001b[39m\u001b[32m1\u001b[39m res_pred=res_model.predict(\u001b[43mres_train_ds\u001b[49m\u001b[43m[\u001b[49m\u001b[32;43m1\u001b[39;49m\u001b[43m]\u001b[49m)\n\u001b[32m      2\u001b[39m eff_pred=eff_model.predict(eff_train_ds)\n",
      "\u001b[31mTypeError\u001b[39m: '_RepeatDataset' object is not subscriptable"
     ]
    }
   ],
   "source": [
    "res_pred=res_model.predict(res_train_ds)\n",
    "eff_pred=eff_model.predict(eff_train_ds)"
   ]
  },
  {
   "cell_type": "code",
   "execution_count": null,
   "metadata": {},
   "outputs": [],
   "source": []
  }
 ],
 "metadata": {
  "kernelspec": {
   "display_name": ".venv",
   "language": "python",
   "name": "python3"
  },
  "language_info": {
   "codemirror_mode": {
    "name": "ipython",
    "version": 3
   },
   "file_extension": ".py",
   "mimetype": "text/x-python",
   "name": "python",
   "nbconvert_exporter": "python",
   "pygments_lexer": "ipython3",
   "version": "3.12.9"
  }
 },
 "nbformat": 4,
 "nbformat_minor": 2
}
